{
  "nbformat": 4,
  "nbformat_minor": 0,
  "metadata": {
    "colab": {
      "provenance": [],
      "authorship_tag": "ABX9TyMStUoXof8tBumspOarO3WW",
      "include_colab_link": true
    },
    "kernelspec": {
      "name": "python3",
      "display_name": "Python 3"
    },
    "language_info": {
      "name": "python"
    }
  },
  "cells": [
    {
      "cell_type": "markdown",
      "metadata": {
        "id": "view-in-github",
        "colab_type": "text"
      },
      "source": [
        "<a href=\"https://colab.research.google.com/github/Sharmin2006/PYTHON/blob/main/Eligibility_of_job_29thjune.ipynb\" target=\"_parent\"><img src=\"https://colab.research.google.com/assets/colab-badge.svg\" alt=\"Open In Colab\"/></a>"
      ]
    },
    {
      "cell_type": "code",
      "execution_count": null,
      "metadata": {
        "colab": {
          "base_uri": "https://localhost:8080/"
        },
        "id": "syzjBJwspff5",
        "outputId": "1ae5ff72-e6a2-4685-b1a8-869089adeaba"
      },
      "outputs": [
        {
          "output_type": "stream",
          "name": "stdout",
          "text": [
            "Enter your age:18\n",
            "you are eligible for full time job\n"
          ]
        }
      ],
      "source": [
        "age=int(input(\"Enter your age:\"))\n",
        "if age>=16 and age<18:\n",
        "   print(\"you are eligible for part time job\")\n",
        "elif age>=18 and age<65:\n",
        "   print(\"you are eligible for full time job\")\n",
        "else:\n",
        "   print(\"you are not eligible\")"
      ]
    }
  ]
}