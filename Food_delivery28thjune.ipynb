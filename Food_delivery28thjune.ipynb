{
  "nbformat": 4,
  "nbformat_minor": 0,
  "metadata": {
    "colab": {
      "provenance": [],
      "toc_visible": true,
      "authorship_tag": "ABX9TyM1gM2sQ7GR10u4LaotVbIF",
      "include_colab_link": true
    },
    "kernelspec": {
      "name": "python3",
      "display_name": "Python 3"
    },
    "language_info": {
      "name": "python"
    }
  },
  "cells": [
    {
      "cell_type": "markdown",
      "metadata": {
        "id": "view-in-github",
        "colab_type": "text"
      },
      "source": [
        "<a href=\"https://colab.research.google.com/github/Sharmin2006/PYTHON/blob/main/Sharmin28thjune.ipynb\" target=\"_parent\"><img src=\"https://colab.research.google.com/assets/colab-badge.svg\" alt=\"Open In Colab\"/></a>"
      ]
    },
    {
      "cell_type": "code",
      "execution_count": null,
      "metadata": {
        "id": "97NSPSTI7emn",
        "colab": {
          "base_uri": "https://localhost:8080/"
        },
        "outputId": "ab44bc5a-111d-40ee-c0cf-456b14bc1aae"
      },
      "outputs": [
        {
          "output_type": "stream",
          "name": "stdout",
          "text": [
            "Breakfast, Lunch, Dinner:Lunch\n",
            "South_Indian or North_Indian:North_Indian\n",
            "Khichadi or Paneer tikka:Paneer tikka\n",
            "You ordered Paneer tikka\n"
          ]
        }
      ],
      "source": [
        "Food_choice=input(\"Breakfast, Lunch, Dinner:\")\n",
        "if(Food_choice==\"Breakfast\"):\n",
        " food=input(\"South_Indian or North_Indian:\")\n",
        " if(food==\"South_Indian\"):\n",
        "    choice=input(\"Idli or Dosa:\")\n",
        "    if(choice==\"Idli\"):\n",
        "        print(\"You ordered Idli\")\n",
        "    elif(choice==\"Dosa\"):\n",
        "        print(\"You ordered Dosa\")\n",
        "    else:\n",
        "        print(\"Invalid choice\")\n",
        " elif(food==\"North_Indian\"):\n",
        "    choice=input(\"Upma or Poha:\")\n",
        "    if(choice==\"Upma\"):\n",
        "        print(\"You ordered Upma\")\n",
        "    elif(choice==\"Poha\"):\n",
        "        print(\"You ordered Poha\")\n",
        "    else:\n",
        "        print(\"Invalid choice\")\n",
        " else:\n",
        "    print(\"Invalid choice\")\n",
        "elif(Food_choice==\"Lunch\"):\n",
        "  food=input(\"South_Indian or North_Indian:\")\n",
        "  if(food==\"South_Indian\"):\n",
        "    choice=input(\"Fish biryani or Tamarind rice:\")\n",
        "    if(choice==\"Fish biryani\"):\n",
        "        print(\"You ordered Fish biryani\")\n",
        "    elif(choice==\"Tamarind rice\"):\n",
        "        print(\"You ordered Tamarind rice\" )\n",
        "    else:\n",
        "        print(\"Invalid choice\")\n",
        "  elif(food==\"North_Indian\"):\n",
        "    choice=input(\"Khichadi or Paneer tikka:\")\n",
        "    if(choice==\"Khichadi\"):\n",
        "        print(\"You ordered Khichadi\")\n",
        "    elif(choice==\"Paneer tikka\"):\n",
        "        print(\"You ordered Paneer tikka\")\n",
        "    else:\n",
        "        print(\"Invalid choice\")\n",
        "  else:\n",
        "    print(\"Invalid choice\")\n",
        "elif(Food_choice==\"Dinner\"):\n",
        "  food=input(\"South_Indian or North_Indian:\")\n",
        "  if(food==\"South_Indian\"):\n",
        "    choice=input(\"Chicken biryani or Prawn curry:\")\n",
        "    if(choice==\"Chicken biryani\"):\n",
        "        print(\"You ordered Chicken biryani\")\n",
        "    elif(choice==\"Prawn curry\"):\n",
        "        print(\"You ordered Prawn curry\")\n",
        "    else:\n",
        "        print(\"Invalid choice\")\n",
        "  elif(food==\"North_Indian\"):\n",
        "    choice=input(\"Palak Paneer or Dal tadka:\")\n",
        "    if(choice==\"Palak Paneer\"):\n",
        "        print(\"You ordered Palak Paneer\")\n",
        "    elif(choice==\"Dal tadka\"):\n",
        "        print(\"You ordered Dal tadka\")\n",
        "    else:\n",
        "        print(\"Invalid choice\")\n",
        "  else:\n",
        "    print(\"Invalid choice\")\n",
        "else:\n",
        "  print(\" Invalid choice\")"
      ]
    }
  ]
}
