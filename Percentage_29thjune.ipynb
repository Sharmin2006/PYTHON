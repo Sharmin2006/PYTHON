{
  "nbformat": 4,
  "nbformat_minor": 0,
  "metadata": {
    "colab": {
      "provenance": [],
      "authorship_tag": "ABX9TyOFJ2L37ptiF2zvQUuOQoaQ",
      "include_colab_link": true
    },
    "kernelspec": {
      "name": "python3",
      "display_name": "Python 3"
    },
    "language_info": {
      "name": "python"
    }
  },
  "cells": [
    {
      "cell_type": "markdown",
      "metadata": {
        "id": "view-in-github",
        "colab_type": "text"
      },
      "source": [
        "<a href=\"https://colab.research.google.com/github/Sharmin2006/PYTHON/blob/main/Percentage_29thjune.ipynb\" target=\"_parent\"><img src=\"https://colab.research.google.com/assets/colab-badge.svg\" alt=\"Open In Colab\"/></a>"
      ]
    },
    {
      "cell_type": "code",
      "execution_count": 1,
      "metadata": {
        "colab": {
          "base_uri": "https://localhost:8080/"
        },
        "id": "f7O6k9dCBaPo",
        "outputId": "4f1be5eb-79d3-4991-e3c2-ad31f26957cc"
      },
      "outputs": [
        {
          "output_type": "stream",
          "name": "stdout",
          "text": [
            "sub1 marks:98\n",
            "sub2 marks:85\n",
            "sub3 marks:75\n",
            "sub4 marks:68\n",
            "sub5 marks:91\n",
            "83.4\n"
          ]
        }
      ],
      "source": [
        "a=int(input(\"sub1 marks:\"))\n",
        "b=int(input(\"sub2 marks:\"))\n",
        "c=int(input(\"sub3 marks:\"))\n",
        "d=int(input(\"sub4 marks:\"))\n",
        "e=int(input(\"sub5 marks:\"))\n",
        "percentage=(a+b+c+d+e)/5\n",
        "print(percentage)"
      ]
    }
  ]
}