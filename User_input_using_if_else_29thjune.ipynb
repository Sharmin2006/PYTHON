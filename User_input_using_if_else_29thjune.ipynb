{
  "nbformat": 4,
  "nbformat_minor": 0,
  "metadata": {
    "colab": {
      "provenance": [],
      "authorship_tag": "ABX9TyNRALti18mLYLsnWNd/bN7d",
      "include_colab_link": true
    },
    "kernelspec": {
      "name": "python3",
      "display_name": "Python 3"
    },
    "language_info": {
      "name": "python"
    }
  },
  "cells": [
    {
      "cell_type": "markdown",
      "metadata": {
        "id": "view-in-github",
        "colab_type": "text"
      },
      "source": [
        "<a href=\"https://colab.research.google.com/github/Sharmin2006/PYTHON/blob/main/User_input_using_if_else_29thjune.ipynb\" target=\"_parent\"><img src=\"https://colab.research.google.com/assets/colab-badge.svg\" alt=\"Open In Colab\"/></a>"
      ]
    },
    {
      "cell_type": "code",
      "execution_count": 4,
      "metadata": {
        "colab": {
          "base_uri": "https://localhost:8080/"
        },
        "id": "EssgIKC3_icQ",
        "outputId": "f4126514-c9d4-403d-c04a-dff2e8961c65"
      },
      "outputs": [
        {
          "output_type": "stream",
          "name": "stdout",
          "text": [
            "Enter a number:20\n",
            "It is positive number\n"
          ]
        }
      ],
      "source": [
        "num=float(input(\"Enter a number:\"))\n",
        "if num>=0:\n",
        "  if num==0:\n",
        "    print(\"Zero\")\n",
        "  else:\n",
        "    print(\"It is positive number\")\n",
        "else:\n",
        "  print(\"It is negative number\")"
      ]
    }
  ]
}