{
  "nbformat": 4,
  "nbformat_minor": 0,
  "metadata": {
    "colab": {
      "provenance": [],
      "authorship_tag": "ABX9TyO9kn4EPYTIR5k++/qeLzZt",
      "include_colab_link": true
    },
    "kernelspec": {
      "name": "python3",
      "display_name": "Python 3"
    },
    "language_info": {
      "name": "python"
    }
  },
  "cells": [
    {
      "cell_type": "markdown",
      "metadata": {
        "id": "view-in-github",
        "colab_type": "text"
      },
      "source": [
        "<a href=\"https://colab.research.google.com/github/Sharmin2006/PYTHON/blob/main/Percentage_using_nested_if_else_20thjune.ipynb\" target=\"_parent\"><img src=\"https://colab.research.google.com/assets/colab-badge.svg\" alt=\"Open In Colab\"/></a>"
      ]
    },
    {
      "cell_type": "code",
      "execution_count": 1,
      "metadata": {
        "colab": {
          "base_uri": "https://localhost:8080/"
        },
        "id": "IX0D2MOwkwGd",
        "outputId": "336c2ec4-52f3-4749-dc6d-68cb0f254c87"
      },
      "outputs": [
        {
          "output_type": "stream",
          "name": "stdout",
          "text": [
            "sub 1:98\n",
            "sub 2:89\n",
            "sub 3:79\n",
            "sub 4:86\n",
            "sub 5:96\n",
            "89.60000000000001\n",
            "distinction\n"
          ]
        }
      ],
      "source": [
        "a=int(input(\"sub 1:\"))\n",
        "b=int(input(\"sub 2:\"))\n",
        "c=int(input(\"sub 3:\"))\n",
        "d=int(input(\"sub 4:\"))\n",
        "e=int(input(\"sub 5:\"))\n",
        "perc=((a+b+c+d+e)/500)*100\n",
        "print(perc)\n",
        "if(perc<35):\n",
        "  print(\"fail\")\n",
        "elif(perc>=35 and perc<40):\n",
        "  print(\"pass class\")\n",
        "elif(perc>=40 and perc<60):\n",
        "  print(\"2nd class\")\n",
        "elif(perc>=60 and perc<75):\n",
        "  print(\"1st class\")\n",
        "elif(perc>=75 and perc<=100):\n",
        "  print(\"distinction\")\n",
        "else:\n",
        "  print(\"not applicable\")"
      ]
    },
    {
      "cell_type": "code",
      "source": [],
      "metadata": {
        "id": "ak0UZeMHt2vW"
      },
      "execution_count": null,
      "outputs": []
    }
  ]
}