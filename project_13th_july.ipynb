{
  "cells": [
    {
      "cell_type": "markdown",
      "metadata": {
        "id": "view-in-github",
        "colab_type": "text"
      },
      "source": [
        "<a href=\"https://colab.research.google.com/github/Sharmin2006/PYTHON/blob/main/project_13th_july.ipynb\" target=\"_parent\"><img src=\"https://colab.research.google.com/assets/colab-badge.svg\" alt=\"Open In Colab\"/></a>"
      ]
    },
    {
      "cell_type": "code",
      "source": [
        "fname=input(\"Enter your first name: \");\n",
        "mname=input(\"Enter your middle name: \");\n",
        "lname=input(\"Enter your last name: \");\n",
        "\n",
        "fullname=\" \".join([fname,mname,lname]);\n",
        "print(fullname)\n",
        "\n",
        "email=input(\"Enter your email id:\");\n",
        "if(email.endswith(\"com\")):\n",
        "   print(email);\n",
        "elif(email.endswith(\"org\")):\n",
        "   print(email);\n",
        "elif(email.endswith(\"edu\")):\n",
        "   print(email);\n",
        "else:\n",
        "   print(\"invalid\");\n",
        "fname=input(\"Enter your fullname: \");\n",
        "fname=fname.lower()\n",
        "a=fname[0:4];\n",
        "DOB=input(\"Enter your dob (DDMMYYYY):\");\n",
        "b=DOB[0:4];\n",
        "password=a+b;\n",
        "print(\"Password:\",password);"
      ],
      "metadata": {
        "colab": {
          "base_uri": "https://localhost:8080/"
        },
        "id": "pjo4Yz9mxDIE",
        "outputId": "4fcc6e8d-ddbb-45ed-d59e-681b26156d84"
      },
      "execution_count": null,
      "outputs": [
        {
          "output_type": "stream",
          "name": "stdout",
          "text": [
            "Enter your first name: Sharmin\n",
            "Enter your middle name: Ashfaque\n",
            "Enter your last name: Kazi\n",
            "Sharmin Ashfaque Kazi\n",
            "Enter your email id:sharminkazi328@gmail.com\n",
            "sharminkazi328@gmail.com\n",
            "Enter your fullname: Sharmin ashfaque kazi\n",
            "Enter your dob (DDMMYYYY):24032006\n",
            "Password: shar2403\n"
          ]
        }
      ]
    }
  ],
  "metadata": {
    "colab": {
      "provenance": [],
      "authorship_tag": "ABX9TyPMYVsVacfZI09geMVdZSbU",
      "include_colab_link": true
    },
    "kernelspec": {
      "display_name": "Python 3",
      "name": "python3"
    },
    "language_info": {
      "name": "python"
    }
  },
  "nbformat": 4,
  "nbformat_minor": 0
}