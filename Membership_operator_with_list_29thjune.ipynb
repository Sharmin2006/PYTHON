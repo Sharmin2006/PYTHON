{
  "nbformat": 4,
  "nbformat_minor": 0,
  "metadata": {
    "colab": {
      "provenance": [],
      "authorship_tag": "ABX9TyO05ZwRb2veBnYDmr8Ib42w",
      "include_colab_link": true
    },
    "kernelspec": {
      "name": "python3",
      "display_name": "Python 3"
    },
    "language_info": {
      "name": "python"
    }
  },
  "cells": [
    {
      "cell_type": "markdown",
      "metadata": {
        "id": "view-in-github",
        "colab_type": "text"
      },
      "source": [
        "<a href=\"https://colab.research.google.com/github/Sharmin2006/PYTHON/blob/main/Membership_operator_with_list_29thjune.ipynb\" target=\"_parent\"><img src=\"https://colab.research.google.com/assets/colab-badge.svg\" alt=\"Open In Colab\"/></a>"
      ]
    },
    {
      "cell_type": "code",
      "execution_count": 1,
      "metadata": {
        "colab": {
          "base_uri": "https://localhost:8080/"
        },
        "id": "9nelN4fa3pZi",
        "outputId": "41caed6d-6624-4b91-e5da-36ae0caec43b"
      },
      "outputs": [
        {
          "output_type": "stream",
          "name": "stdout",
          "text": [
            "a is given\n"
          ]
        }
      ],
      "source": [
        "a=\"sharo\"\n",
        "list=[\"sharo\",24,24.5,\"test\"]\n",
        "if(a in list):\n",
        "  print(\"a is given\")\n",
        "else:\n",
        "  print(\"a is not given\")"
      ]
    },
    {
      "cell_type": "code",
      "source": [
        "L1=[\"sharo\",24,24.5,\"test\"]\n",
        "print(L1[-1][::-1])"
      ],
      "metadata": {
        "colab": {
          "base_uri": "https://localhost:8080/"
        },
        "id": "53wA7EsC4nl2",
        "outputId": "c441742d-b40e-4eed-b0cc-c75f668d97c1"
      },
      "execution_count": 4,
      "outputs": [
        {
          "output_type": "stream",
          "name": "stdout",
          "text": [
            "tset\n"
          ]
        }
      ]
    },
    {
      "cell_type": "code",
      "source": [
        "L1=[\"sharo\",24,24.5,\"test\"]\n",
        "print(L1[::-1])"
      ],
      "metadata": {
        "colab": {
          "base_uri": "https://localhost:8080/"
        },
        "id": "6b8Fy3ke33sE",
        "outputId": "a77c5a8c-7c28-4dd0-9812-6752bf467c9f"
      },
      "execution_count": 3,
      "outputs": [
        {
          "output_type": "stream",
          "name": "stdout",
          "text": [
            "['test', 24.5, 24, 'sharo']\n"
          ]
        }
      ]
    }
  ]
}