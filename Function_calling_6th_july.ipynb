{
  "nbformat": 4,
  "nbformat_minor": 0,
  "metadata": {
    "colab": {
      "provenance": [],
      "authorship_tag": "ABX9TyP3uv8SLZGxfPZf/AVmw6rU",
      "include_colab_link": true
    },
    "kernelspec": {
      "name": "python3",
      "display_name": "Python 3"
    },
    "language_info": {
      "name": "python"
    }
  },
  "cells": [
    {
      "cell_type": "markdown",
      "metadata": {
        "id": "view-in-github",
        "colab_type": "text"
      },
      "source": [
        "<a href=\"https://colab.research.google.com/github/Sharmin2006/PYTHON/blob/main/Function_calling_6th_july.ipynb\" target=\"_parent\"><img src=\"https://colab.research.google.com/assets/colab-badge.svg\" alt=\"Open In Colab\"/></a>"
      ]
    },
    {
      "cell_type": "code",
      "execution_count": null,
      "metadata": {
        "colab": {
          "base_uri": "https://localhost:8080/"
        },
        "id": "hWiFh6XDQlEf",
        "outputId": "060e63bd-1b15-49f8-a19e-db6426f0ecd2"
      },
      "outputs": [
        {
          "output_type": "stream",
          "name": "stdout",
          "text": [
            "Enter your choice\n",
            "1.add\n",
            "2.sub\n",
            "3.div\n",
            "4.mul:4\n",
            "Enter number1:52\n",
            "Enter number2:7\n",
            "364\n"
          ]
        }
      ],
      "source": [
        "def add(a,b):\n",
        "  return a+b\n",
        "def sub(a,b):\n",
        "  return a-b\n",
        "def div(a,b):\n",
        "  return a/b\n",
        "def mul(a,b):\n",
        "  return a*b\n",
        "\n",
        "c=int(input('''Enter your choice\n",
        "1.add\n",
        "2.sub\n",
        "3.div\n",
        "4.mul:'''))\n",
        "a=int(input(\"Enter number1:\"))\n",
        "b=int(input(\"Enter number2:\"))\n",
        "if c==1:\n",
        "  result=add(a,b)\n",
        "  print(result)\n",
        "elif c==2:\n",
        "  result=sub(a,b)\n",
        "  print(result)\n",
        "elif c==3:\n",
        "  result=div(a,b)\n",
        "  print(result)\n",
        "elif c==4:\n",
        "  result=mul(a,b)\n",
        "  print(result)\n",
        "else:\n",
        "  print(\"Invalid choice\")\n"
      ]
    },
    {
      "cell_type": "code",
      "source": [
        "def max(a,b):\n",
        "  if a>b:\n",
        "    print(a)\n",
        "  else:\n",
        "    print(b)\n",
        "\n",
        "x,y,z=10,20,45\n",
        "max(x,max(y,z))"
      ],
      "metadata": {
        "colab": {
          "base_uri": "https://localhost:8080/",
          "height": 451
        },
        "id": "06gLYBghUyEJ",
        "outputId": "64110ecd-bc22-4633-a743-72c1d41f91d9"
      },
      "execution_count": null,
      "outputs": [
        {
          "output_type": "stream",
          "name": "stdout",
          "text": [
            "45\n"
          ]
        },
        {
          "output_type": "error",
          "ename": "TypeError",
          "evalue": "'>' not supported between instances of 'int' and 'NoneType'",
          "traceback": [
            "\u001b[0;31m---------------------------------------------------------------------------\u001b[0m",
            "\u001b[0;31mTypeError\u001b[0m                                 Traceback (most recent call last)",
            "\u001b[0;32m<ipython-input-18-4310bbe2dc86>\u001b[0m in \u001b[0;36m<cell line: 8>\u001b[0;34m()\u001b[0m\n\u001b[1;32m      6\u001b[0m \u001b[0;34m\u001b[0m\u001b[0m\n\u001b[1;32m      7\u001b[0m \u001b[0mx\u001b[0m\u001b[0;34m,\u001b[0m\u001b[0my\u001b[0m\u001b[0;34m,\u001b[0m\u001b[0mz\u001b[0m\u001b[0;34m=\u001b[0m\u001b[0;36m10\u001b[0m\u001b[0;34m,\u001b[0m\u001b[0;36m20\u001b[0m\u001b[0;34m,\u001b[0m\u001b[0;36m45\u001b[0m\u001b[0;34m\u001b[0m\u001b[0;34m\u001b[0m\u001b[0m\n\u001b[0;32m----> 8\u001b[0;31m \u001b[0mmax\u001b[0m\u001b[0;34m(\u001b[0m\u001b[0mx\u001b[0m\u001b[0;34m,\u001b[0m\u001b[0mmax\u001b[0m\u001b[0;34m(\u001b[0m\u001b[0my\u001b[0m\u001b[0;34m,\u001b[0m\u001b[0mz\u001b[0m\u001b[0;34m)\u001b[0m\u001b[0;34m)\u001b[0m\u001b[0;34m\u001b[0m\u001b[0;34m\u001b[0m\u001b[0m\n\u001b[0m",
            "\u001b[0;32m<ipython-input-18-4310bbe2dc86>\u001b[0m in \u001b[0;36mmax\u001b[0;34m(a, b)\u001b[0m\n\u001b[1;32m      1\u001b[0m \u001b[0;32mdef\u001b[0m \u001b[0mmax\u001b[0m\u001b[0;34m(\u001b[0m\u001b[0ma\u001b[0m\u001b[0;34m,\u001b[0m\u001b[0mb\u001b[0m\u001b[0;34m)\u001b[0m\u001b[0;34m:\u001b[0m\u001b[0;34m\u001b[0m\u001b[0;34m\u001b[0m\u001b[0m\n\u001b[0;32m----> 2\u001b[0;31m   \u001b[0;32mif\u001b[0m \u001b[0ma\u001b[0m\u001b[0;34m>\u001b[0m\u001b[0mb\u001b[0m\u001b[0;34m:\u001b[0m\u001b[0;34m\u001b[0m\u001b[0;34m\u001b[0m\u001b[0m\n\u001b[0m\u001b[1;32m      3\u001b[0m     \u001b[0mprint\u001b[0m\u001b[0;34m(\u001b[0m\u001b[0ma\u001b[0m\u001b[0;34m)\u001b[0m\u001b[0;34m\u001b[0m\u001b[0;34m\u001b[0m\u001b[0m\n\u001b[1;32m      4\u001b[0m   \u001b[0;32melse\u001b[0m\u001b[0;34m:\u001b[0m\u001b[0;34m\u001b[0m\u001b[0;34m\u001b[0m\u001b[0m\n\u001b[1;32m      5\u001b[0m     \u001b[0mprint\u001b[0m\u001b[0;34m(\u001b[0m\u001b[0mb\u001b[0m\u001b[0;34m)\u001b[0m\u001b[0;34m\u001b[0m\u001b[0;34m\u001b[0m\u001b[0m\n",
            "\u001b[0;31mTypeError\u001b[0m: '>' not supported between instances of 'int' and 'NoneType'"
          ]
        }
      ]
    },
    {
      "cell_type": "code",
      "source": [
        "def add(a,b):\n",
        "   return a+b\n",
        "def sub(a,b):\n",
        "   return a-b\n",
        "def mul(a,b):\n",
        "   return a*b\n",
        "def div(a,b):\n",
        "   return a/b\n",
        "\n",
        "c=int(input('''Enter your choice:\n",
        "1:add\n",
        "2:sub\n",
        "3:mul\n",
        "4:div:'''))\n",
        "\n",
        "num1=int(input(\"Enter First Number:\"))\n",
        "num2=int(input(\"Enter Second Number:\"))\n",
        "num3=int(input(\"Enter Third Number:\"))\n",
        "\n",
        "if c==1:\n",
        "  print(add(num1,add(num2,num3)))\n",
        "elif c==2 :\n",
        "  print(sub(num1,sub(num2,num3)))\n",
        "elif c==3 :\n",
        "  print(mul(num1,mul(num2,num3)))\n",
        "elif c==4:\n",
        "  result=div(num1,num2)\n",
        "  print(result)\n",
        "else:\n",
        "  print(\"Invalid choice\")"
      ],
      "metadata": {
        "colab": {
          "base_uri": "https://localhost:8080/"
        },
        "id": "0xsjAC8UhKP5",
        "outputId": "cd4dd8c1-ed4c-4d30-b0ff-d7180d8db1d1"
      },
      "execution_count": null,
      "outputs": [
        {
          "output_type": "stream",
          "name": "stdout",
          "text": [
            "Enter your choice:\n",
            "1:add\n",
            "2:sub\n",
            "3:mul\n",
            "4:div:2\n",
            "Enter First Number:87\n",
            "Enter Second Number:56\n",
            "Enter Third Number:25\n",
            "56\n"
          ]
        }
      ]
    },
    {
      "cell_type": "code",
      "source": [
        "def add(a,b):\n",
        "   return a+b\n",
        "def sub(a,b):\n",
        "   return a-b\n",
        "def mul(a,b):\n",
        "   return a*b\n",
        "def div(a,b):\n",
        "   return a/b\n",
        "\n",
        "c=int(input('''Enter your choice:\n",
        "1:add\n",
        "2:sub\n",
        "3:mul\n",
        "4:div:'''))\n",
        "\n",
        "num1=int(input(\"Enter First Number:\"))\n",
        "num2=int(input(\"Enter Second Number:\"))\n",
        "num3=int(input(\"Enter Third Number:\"))\n",
        "num4=int(input(\"Enter Fourth Number:\"))\n",
        "\n",
        "if c==1:\n",
        "  x=add(num1,add(num2,num3))\n",
        "  print(add(x,num4))\n",
        "elif c==2:\n",
        "  x=sub(num1,sub(num2,num3))\n",
        "  print(sub(x,num4))\n",
        "elif c==3:\n",
        "  x=mul(num1,mul(num2,num3))\n",
        "  print(sub(x,num4))\n",
        "elif c==4:\n",
        "  result=div(num1,num2)\n",
        "  print(result)\n",
        "else:\n",
        "  print(\"invalid choice\")"
      ],
      "metadata": {
        "id": "9inrunWIj9wF",
        "colab": {
          "base_uri": "https://localhost:8080/"
        },
        "outputId": "306ee777-4de0-42ac-a501-014f03ad0b2b"
      },
      "execution_count": null,
      "outputs": [
        {
          "output_type": "stream",
          "name": "stdout",
          "text": [
            "Enter your choice:\n",
            "1:add\n",
            "2:sub\n",
            "3:mul\n",
            "4:div:1\n",
            "Enter First Number:52\n",
            "Enter Second Number:8\n",
            "Enter Third Number:6\n",
            "Enter Fourth Number:32\n",
            "98\n"
          ]
        }
      ]
    }
  ]
}