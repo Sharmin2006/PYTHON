{
  "nbformat": 4,
  "nbformat_minor": 0,
  "metadata": {
    "colab": {
      "provenance": [],
      "authorship_tag": "ABX9TyMJHatTb5DEhxTmauQtYrtb",
      "include_colab_link": true
    },
    "kernelspec": {
      "name": "python3",
      "display_name": "Python 3"
    },
    "language_info": {
      "name": "python"
    }
  },
  "cells": [
    {
      "cell_type": "markdown",
      "metadata": {
        "id": "view-in-github",
        "colab_type": "text"
      },
      "source": [
        "<a href=\"https://colab.research.google.com/github/Sharmin2006/PYTHON/blob/main/loop_and_statement_4th_july.ipynb\" target=\"_parent\"><img src=\"https://colab.research.google.com/assets/colab-badge.svg\" alt=\"Open In Colab\"/></a>"
      ]
    },
    {
      "cell_type": "code",
      "execution_count": null,
      "metadata": {
        "colab": {
          "base_uri": "https://localhost:8080/"
        },
        "id": "6rv7c_Jyfr5t",
        "outputId": "496fedf9-33e4-45fe-be95-c7294858eb90"
      },
      "outputs": [
        {
          "output_type": "stream",
          "name": "stdout",
          "text": [
            "1 \n",
            "2 2 \n",
            "3 3 3 \n",
            "4 4 4 4 \n",
            "5 5 5 5 5 \n",
            "6 6 6 6 6 6 \n",
            "7 7 7 7 7 7 7 \n",
            "8 8 8 8 8 8 8 8 \n",
            "9 9 9 9 9 9 9 9 9 \n"
          ]
        }
      ],
      "source": [
        "p=1\n",
        "while p<10:\n",
        "  q=1\n",
        "  while q<=p:\n",
        "    print(p,end=\" \")\n",
        "    q+=1\n",
        "  p+=1\n",
        "  print(\"\")"
      ]
    },
    {
      "cell_type": "code",
      "source": [
        "for num in range(10):\n",
        "  if num>5:\n",
        "    print(\"stop processing\")\n",
        "    break\n",
        "  print(num)\n"
      ],
      "metadata": {
        "colab": {
          "base_uri": "https://localhost:8080/"
        },
        "id": "ktJ6N7sjiu5z",
        "outputId": "c6f0fd9c-abe3-43ad-f019-0a83cac6be35"
      },
      "execution_count": null,
      "outputs": [
        {
          "output_type": "stream",
          "name": "stdout",
          "text": [
            "0\n",
            "1\n",
            "2\n",
            "3\n",
            "4\n",
            "5\n",
            "stop processing\n"
          ]
        }
      ]
    },
    {
      "cell_type": "code",
      "source": [
        "for num in range(10):\n",
        "  if num%2!=0:\n",
        "    print(\"skip\")\n",
        "    continue\n",
        "  print(num)"
      ],
      "metadata": {
        "colab": {
          "base_uri": "https://localhost:8080/"
        },
        "id": "wZhod8uAkrtL",
        "outputId": "6683f7de-4c1b-424f-8479-c763397abd08"
      },
      "execution_count": null,
      "outputs": [
        {
          "output_type": "stream",
          "name": "stdout",
          "text": [
            "0\n",
            "skip\n",
            "2\n",
            "skip\n",
            "4\n",
            "skip\n",
            "6\n",
            "skip\n",
            "8\n",
            "skip\n"
          ]
        }
      ]
    },
    {
      "cell_type": "code",
      "source": [
        "def admission():\n",
        " course=input(\"Which course you want:\")\n",
        " if course==\"BScIT\":\n",
        "  per=int(input(\"Enter your percentage:\"))\n",
        "  sub=input(\"Enter optional subject:\")\n",
        "  if sub==\"Maths\" and per>=45:\n",
        "     print(\"success\")\n",
        "  else:\n",
        "    print(\"not eligible\")\n",
        " else:\n",
        "    print(\"not eligible\")\n",
        "admission()"
      ],
      "metadata": {
        "colab": {
          "base_uri": "https://localhost:8080/"
        },
        "id": "eyTurzFal2aU",
        "outputId": "415a5aa1-8b8a-403f-cdd5-ad839bd161ff"
      },
      "execution_count": null,
      "outputs": [
        {
          "output_type": "stream",
          "name": "stdout",
          "text": [
            "Which course you want:BScIT\n",
            "Enter your percentage:60\n",
            "Enter optional subject:Maths\n",
            "success\n"
          ]
        }
      ]
    },
    {
      "cell_type": "code",
      "source": [
        "def Test():\n",
        "  print(\"Good afternoon\")\n",
        "Test()\n"
      ],
      "metadata": {
        "colab": {
          "base_uri": "https://localhost:8080/"
        },
        "id": "Wze0alBzvnM7",
        "outputId": "61511742-9491-4ece-859e-6e7136ea5037"
      },
      "execution_count": null,
      "outputs": [
        {
          "output_type": "stream",
          "name": "stdout",
          "text": [
            "Good afternoon\n"
          ]
        }
      ]
    },
    {
      "cell_type": "code",
      "source": [
        "def add(a,b):\n",
        "  print(a+b)\n",
        "add(10,20)"
      ],
      "metadata": {
        "colab": {
          "base_uri": "https://localhost:8080/"
        },
        "id": "D_uPTgrvwcKu",
        "outputId": "772b10c3-4d24-4e31-c037-dac076b5a7ca"
      },
      "execution_count": null,
      "outputs": [
        {
          "output_type": "stream",
          "name": "stdout",
          "text": [
            "30\n"
          ]
        }
      ]
    },
    {
      "cell_type": "code",
      "source": [
        "def print_num(a):\n",
        "  for num in range(a):\n",
        "    print(num)\n",
        "\n",
        "print_num(10)"
      ],
      "metadata": {
        "colab": {
          "base_uri": "https://localhost:8080/"
        },
        "id": "q7hhuGhaxDOl",
        "outputId": "92bc3a05-ff10-460f-b93a-3af9c9446a53"
      },
      "execution_count": null,
      "outputs": [
        {
          "output_type": "stream",
          "name": "stdout",
          "text": [
            "0\n",
            "1\n",
            "2\n",
            "3\n",
            "4\n",
            "5\n",
            "6\n",
            "7\n",
            "8\n",
            "9\n"
          ]
        }
      ]
    }
  ]
}