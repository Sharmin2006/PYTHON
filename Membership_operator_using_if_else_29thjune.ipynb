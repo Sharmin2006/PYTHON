{
  "nbformat": 4,
  "nbformat_minor": 0,
  "metadata": {
    "colab": {
      "provenance": [],
      "authorship_tag": "ABX9TyPd4g5Gvnf5+vfSu385VSsD",
      "include_colab_link": true
    },
    "kernelspec": {
      "name": "python3",
      "display_name": "Python 3"
    },
    "language_info": {
      "name": "python"
    }
  },
  "cells": [
    {
      "cell_type": "markdown",
      "metadata": {
        "id": "view-in-github",
        "colab_type": "text"
      },
      "source": [
        "<a href=\"https://colab.research.google.com/github/Sharmin2006/PYTHON/blob/main/Membership_operator_29thjune.ipynb\" target=\"_parent\"><img src=\"https://colab.research.google.com/assets/colab-badge.svg\" alt=\"Open In Colab\"/></a>"
      ]
    },
    {
      "cell_type": "code",
      "execution_count": 1,
      "metadata": {
        "colab": {
          "base_uri": "https://localhost:8080/"
        },
        "id": "B_R7Z8I-1gO0",
        "outputId": "666ae396-701f-444f-d5b8-c975c6253b04"
      },
      "outputs": [
        {
          "output_type": "stream",
          "name": "stdout",
          "text": [
            "a is given in the list\n",
            "b is given in the list\n"
          ]
        }
      ],
      "source": [
        "a=10\n",
        "b=20\n",
        "list=[10,20,30,40,50]\n",
        "if(a in list):\n",
        "  print('a is given in the list')\n",
        "else:\n",
        "  print('a is not given in the list')\n",
        "if(b not in list):\n",
        "  print('b is not given in the list')\n",
        "else:\n",
        "  print('b is given in the list')"
      ]
    }
  ]
}
